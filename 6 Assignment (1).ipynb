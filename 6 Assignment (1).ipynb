{
 "cells": [
  {
   "cell_type": "code",
   "execution_count": 9,
   "id": "e468c7e4-adcc-4b5d-adbd-d3cbdd66790d",
   "metadata": {},
   "outputs": [
    {
     "name": "stdout",
     "output_type": "stream",
     "text": [
      "simple contact book\n",
      "1. Add a contact\n",
      "2. Search for a contact\n",
      "3. Delete a contact\n",
      "4. Update a contact\n",
      "5. Quit\n"
     ]
    },
    {
     "name": "stdin",
     "output_type": "stream",
     "text": [
      "choose an option 1\n",
      "Enter the name: beeya\n",
      "Enter the number: 027346\n"
     ]
    },
    {
     "name": "stdout",
     "output_type": "stream",
     "text": [
      "name  and contact added successfully\n",
      "simple contact book\n",
      "1. Add a contact\n",
      "2. Search for a contact\n",
      "3. Delete a contact\n",
      "4. Update a contact\n",
      "5. Quit\n"
     ]
    },
    {
     "name": "stdin",
     "output_type": "stream",
     "text": [
      "choose an option 1\n",
      "Enter the name: Rabbia\n",
      "Enter the number: 23754\n"
     ]
    },
    {
     "name": "stdout",
     "output_type": "stream",
     "text": [
      "name  and contact added successfully\n",
      "simple contact book\n",
      "1. Add a contact\n",
      "2. Search for a contact\n",
      "3. Delete a contact\n",
      "4. Update a contact\n",
      "5. Quit\n"
     ]
    },
    {
     "name": "stdin",
     "output_type": "stream",
     "text": [
      "choose an option 2\n"
     ]
    },
    {
     "name": "stdout",
     "output_type": "stream",
     "text": [
      "['beeya', 'Rabbia']\n"
     ]
    },
    {
     "name": "stdin",
     "output_type": "stream",
     "text": [
      "Enter a name to searche leeza\n"
     ]
    },
    {
     "name": "stdout",
     "output_type": "stream",
     "text": [
      "contact leeza not found\n",
      "simple contact book\n",
      "1. Add a contact\n",
      "2. Search for a contact\n",
      "3. Delete a contact\n",
      "4. Update a contact\n",
      "5. Quit\n"
     ]
    },
    {
     "name": "stdin",
     "output_type": "stream",
     "text": [
      "choose an option 2\n"
     ]
    },
    {
     "name": "stdout",
     "output_type": "stream",
     "text": [
      "['beeya', 'Rabbia']\n"
     ]
    },
    {
     "name": "stdin",
     "output_type": "stream",
     "text": [
      "Enter a name to searche beeya\n"
     ]
    },
    {
     "name": "stdout",
     "output_type": "stream",
     "text": [
      "phone number: 027346\n",
      "simple contact book\n",
      "1. Add a contact\n",
      "2. Search for a contact\n",
      "3. Delete a contact\n",
      "4. Update a contact\n",
      "5. Quit\n"
     ]
    },
    {
     "name": "stdin",
     "output_type": "stream",
     "text": [
      "choose an option 3\n",
      "Enter the name to delete leeza\n"
     ]
    },
    {
     "name": "stdout",
     "output_type": "stream",
     "text": [
      "leeza is not found\n",
      "simple contact book\n",
      "1. Add a contact\n",
      "2. Search for a contact\n",
      "3. Delete a contact\n",
      "4. Update a contact\n",
      "5. Quit\n"
     ]
    },
    {
     "name": "stdin",
     "output_type": "stream",
     "text": [
      "choose an option 3\n",
      "Enter the name to delete Rabbia\n"
     ]
    },
    {
     "name": "stdout",
     "output_type": "stream",
     "text": [
      "contact and name delete successfully\n",
      "remaing name:['beeya']\n",
      "remaing contact:['027346']\n",
      "simple contact book\n",
      "1. Add a contact\n",
      "2. Search for a contact\n",
      "3. Delete a contact\n",
      "4. Update a contact\n",
      "5. Quit\n"
     ]
    },
    {
     "name": "stdin",
     "output_type": "stream",
     "text": [
      "choose an option 4\n",
      "Enter a name to update beeya\n",
      "Enter a new number 8888600000\n"
     ]
    },
    {
     "name": "stdout",
     "output_type": "stream",
     "text": [
      "contact update successfully\n",
      "updated list:['8888600000']\n",
      "simple contact book\n",
      "1. Add a contact\n",
      "2. Search for a contact\n",
      "3. Delete a contact\n",
      "4. Update a contact\n",
      "5. Quit\n"
     ]
    },
    {
     "name": "stdin",
     "output_type": "stream",
     "text": [
      "choose an option 6\n"
     ]
    },
    {
     "name": "stdout",
     "output_type": "stream",
     "text": [
      "invalid,choose the appropriate option\n",
      "simple contact book\n",
      "1. Add a contact\n",
      "2. Search for a contact\n",
      "3. Delete a contact\n",
      "4. Update a contact\n",
      "5. Quit\n"
     ]
    },
    {
     "name": "stdin",
     "output_type": "stream",
     "text": [
      "choose an option 5\n"
     ]
    },
    {
     "name": "stdout",
     "output_type": "stream",
     "text": [
      "good luck\n"
     ]
    }
   ],
   "source": [
    "names=[]\n",
    "numbers=[]\n",
    "while True:\n",
    "    print(\"simple contact book\")\n",
    "    print(\"1. Add a contact\")\n",
    "    print(\"2. Search for a contact\")\n",
    "    print(\"3. Delete a contact\")\n",
    "    print(\"4. Update a contact\")\n",
    "    print(\"5. Quit\")\n",
    "    choice=int(input(\"choose an option\"))\n",
    "    if choice==1:\n",
    "        name=input(\"Enter the name:\")\n",
    "        number=input(\"Enter the number:\")\n",
    "        names.append(name)\n",
    "        numbers.append(number)\n",
    "        print(\"name  and contact added successfully\")\n",
    "    elif choice==2:\n",
    "        print(names)\n",
    "        search_for_can=input(\"Enter a name to searche\")\n",
    "        if search_for_can in names:\n",
    "            search=names.index(search_for_can)\n",
    "            print(\"phone number:\",numbers[search])\n",
    "        else:\n",
    "            print(f\"contact {search_for_can} not found\")\n",
    "    elif choice ==3:\n",
    "        name=input(\"Enter the name to delete\")\n",
    "        if name in names:\n",
    "            search=names.index(name)\n",
    "            names.pop(search)\n",
    "            numbers.pop(search)\n",
    "            print(\"contact and name delete successfully\")\n",
    "            print(f\"remaing name:{names}\")\n",
    "            print(f\"remaing contact:{numbers}\")\n",
    "        else:\n",
    "            print(f\"{name} is not found\")\n",
    "    elif choice==4:\n",
    "        name=input(\"Enter a name to update\")\n",
    "        if name in names:\n",
    "            search=names.index(name)\n",
    "            new_number=input(\"Enter a new number\")\n",
    "            numbers[search]=new_number\n",
    "            print(\"contact update successfully\")\n",
    "            print(f\"updated list:{numbers}\")\n",
    "        else:\n",
    "            print(f\"{name} is not found\")\n",
    "    elif choice==5:\n",
    "        print(\"good luck\")\n",
    "        break\n",
    "    else:\n",
    "        print(\"invalid,choose the appropriate option\")"
   ]
  },
  {
   "cell_type": "code",
   "execution_count": null,
   "id": "baff9ecd-6684-44ea-81df-0d51bb0e0307",
   "metadata": {},
   "outputs": [],
   "source": []
  }
 ],
 "metadata": {
  "kernelspec": {
   "display_name": "Python 3 (ipykernel)",
   "language": "python",
   "name": "python3"
  },
  "language_info": {
   "codemirror_mode": {
    "name": "ipython",
    "version": 3
   },
   "file_extension": ".py",
   "mimetype": "text/x-python",
   "name": "python",
   "nbconvert_exporter": "python",
   "pygments_lexer": "ipython3",
   "version": "3.11.7"
  }
 },
 "nbformat": 4,
 "nbformat_minor": 5
}
